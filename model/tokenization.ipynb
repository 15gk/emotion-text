{
 "cells": [
  {
   "cell_type": "code",
   "execution_count": 3,
   "metadata": {},
   "outputs": [
    {
     "data": {
      "text/plain": [
       "['Hello',\n",
       " 'everyone.',\n",
       " 'Welcome',\n",
       " 'to',\n",
       " 'GeeksforGeeks.',\n",
       " 'You',\n",
       " 'are',\n",
       " 'studying',\n",
       " 'NLP',\n",
       " 'article.']"
      ]
     },
     "execution_count": 3,
     "metadata": {},
     "output_type": "execute_result"
    }
   ],
   "source": [
    "\n",
    "text = \"Hello everyone. Welcome to GeeksforGeeks. You are studying NLP article.\"\n",
    "text.split()"
   ]
  },
  {
   "cell_type": "code",
   "execution_count": 4,
   "metadata": {},
   "outputs": [
    {
     "name": "stdout",
     "output_type": "stream",
     "text": [
      "upgrade\n"
     ]
    }
   ],
   "source": [
    "import re\n",
    "\n",
    "def remove_extra_spaces(token):\n",
    "    # Remove spaces between characters in the token\n",
    "    cleaned_token = re.sub(r'\\s+', '', token)\n",
    "    return cleaned_token\n",
    "\n",
    "# Example usage\n",
    "token = 'u p g r a d e'\n",
    "cleaned_token = remove_extra_spaces(token)\n",
    "print(cleaned_token)"
   ]
  },
  {
   "cell_type": "code",
   "execution_count": 5,
   "metadata": {},
   "outputs": [
    {
     "name": "stdout",
     "output_type": "stream",
     "text": [
      "['upgrade', 'list']\n"
     ]
    }
   ],
   "source": [
    "import re\n",
    "\n",
    "def remove_extra_spaces(token):\n",
    "    # Remove spaces between characters in the token\n",
    "    cleaned_token = re.sub(r'\\s+', '', token)\n",
    "    return cleaned_token\n",
    "\n",
    "# List of tokens with extra spaces\n",
    "tokens = [' u p g r a d e ', ' l i s t ']\n",
    "\n",
    "# Apply the function to each token in the list\n",
    "cleaned_tokens = [remove_extra_spaces(token) for token in tokens]\n",
    "\n",
    "print(cleaned_tokens)"
   ]
  },
  {
   "cell_type": "code",
   "execution_count": 6,
   "metadata": {},
   "outputs": [
    {
     "name": "stdout",
     "output_type": "stream",
     "text": [
      "['upgrade', 'list']\n"
     ]
    }
   ],
   "source": [
    "import re\n",
    "\n",
    "def remove_extra_spaces(token):\n",
    "    # Remove spaces between characters and strip leading/trailing spaces\n",
    "    cleaned_token = re.sub(r'\\s+', '', token).strip()\n",
    "    return cleaned_token\n",
    "\n",
    "# List of tokens with extra spaces\n",
    "tokens = [' u p g r a d e ', ' l i s t ']\n",
    "\n",
    "# Apply the function to each token in the list\n",
    "cleaned_tokens = [remove_extra_spaces(token) for token in tokens]\n",
    "\n",
    "print(cleaned_tokens)"
   ]
  },
  {
   "cell_type": "code",
   "execution_count": 7,
   "metadata": {},
   "outputs": [
    {
     "name": "stdout",
     "output_type": "stream",
     "text": [
      "[upgrade, list]\n"
     ]
    }
   ],
   "source": [
    "import re\n",
    "\n",
    "def remove_extra_spaces(token):\n",
    "    # Remove spaces between characters and strip leading/trailing spaces\n",
    "    cleaned_token = re.sub(r'\\s+', '', token).strip()\n",
    "    return cleaned_token\n",
    "\n",
    "# List of tokens with extra spaces\n",
    "tokens = [' u p g r a d e ',    ' l i s t ']\n",
    "\n",
    "# Apply the function to each token in the list\n",
    "cleaned_tokens = [remove_extra_spaces(token) for token in tokens]\n",
    "\n",
    "# Print the cleaned tokens without extra spaces between elements\n",
    "print('[' + ', '.join(cleaned_tokens) + ']')"
   ]
  }
 ],
 "metadata": {
  "kernelspec": {
   "display_name": "dlenv",
   "language": "python",
   "name": "python3"
  },
  "language_info": {
   "codemirror_mode": {
    "name": "ipython",
    "version": 3
   },
   "file_extension": ".py",
   "mimetype": "text/x-python",
   "name": "python",
   "nbconvert_exporter": "python",
   "pygments_lexer": "ipython3",
   "version": "3.11.3"
  }
 },
 "nbformat": 4,
 "nbformat_minor": 2
}
